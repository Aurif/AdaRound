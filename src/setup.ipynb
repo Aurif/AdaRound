{
 "cells": [
  {
   "attachments": {},
   "cell_type": "markdown",
   "id": "224326f2",
   "metadata": {},
   "source": [
    "### Python 3.8 setup"
   ]
  },
  {
   "cell_type": "code",
   "execution_count": 1,
   "id": "63db4170",
   "metadata": {
    "execution": {
     "iopub.execute_input": "2023-05-14T23:29:21.509784Z",
     "iopub.status.busy": "2023-05-14T23:29:21.509496Z",
     "iopub.status.idle": "2023-05-14T23:29:35.880257Z",
     "shell.execute_reply": "2023-05-14T23:29:35.878980Z"
    },
    "papermill": {
     "duration": 14.390003,
     "end_time": "2023-05-14T23:29:35.883055",
     "exception": false,
     "start_time": "2023-05-14T23:29:21.493052",
     "status": "completed"
    },
    "tags": []
   },
   "outputs": [],
   "source": [
    "!mkdir -p ~/miniconda3\n",
    "!wget https://repo.anaconda.com/miniconda/Miniconda3-latest-Linux-x86_64.sh -O ~/miniconda3/miniconda.sh\n",
    "!bash ~/miniconda3/miniconda.sh -b -u -p ~/miniconda3\n",
    "!rm -rf ~/miniconda3/miniconda.sh"
   ]
  },
  {
   "cell_type": "code",
   "execution_count": 3,
   "id": "842ef527",
   "metadata": {
    "execution": {
     "iopub.execute_input": "2023-05-14T23:29:35.916981Z",
     "iopub.status.busy": "2023-05-14T23:29:35.916635Z",
     "iopub.status.idle": "2023-05-14T23:29:39.182985Z",
     "shell.execute_reply": "2023-05-14T23:29:39.181657Z"
    },
    "papermill": {
     "duration": 3.2864,
     "end_time": "2023-05-14T23:29:39.185648",
     "exception": false,
     "start_time": "2023-05-14T23:29:35.899248",
     "status": "completed"
    },
    "tags": []
   },
   "outputs": [],
   "source": [
    "!~/miniconda3/bin/conda init bash\n",
    "!~/miniconda3/bin/conda init zsh\n",
    "!~/miniconda3/bin/conda create -n py38 python=3.8 --yes"
   ]
  },
  {
   "cell_type": "code",
   "execution_count": 1,
   "id": "533d9736",
   "metadata": {
    "execution": {
     "iopub.execute_input": "2023-05-14T23:30:32.922192Z",
     "iopub.status.busy": "2023-05-14T23:30:32.921111Z",
     "iopub.status.idle": "2023-05-14T23:30:32.927654Z",
     "shell.execute_reply": "2023-05-14T23:30:32.926616Z"
    },
    "papermill": {
     "duration": 0.025955,
     "end_time": "2023-05-14T23:30:32.930016",
     "exception": false,
     "start_time": "2023-05-14T23:30:32.904061",
     "status": "completed"
    },
    "tags": []
   },
   "outputs": [
    {
     "name": "stdout",
     "output_type": "stream",
     "text": [
      "Python version\n",
      "3.8.16 (default, Mar  2 2023, 03:21:46) \n",
      "[GCC 11.2.0]\n",
      "Version info.\n",
      "sys.version_info(major=3, minor=8, micro=16, releaselevel='final', serial=0)\n"
     ]
    }
   ],
   "source": [
    "import sys\n",
    "print(\"Python version\")\n",
    "print (sys.version)\n",
    "print(\"Version info.\")\n",
    "print (sys.version_info)"
   ]
  },
  {
   "attachments": {},
   "cell_type": "markdown",
   "id": "7e7af67f",
   "metadata": {},
   "source": [
    "### Selecting CUDA version"
   ]
  },
  {
   "cell_type": "code",
   "execution_count": null,
   "id": "f122571b",
   "metadata": {},
   "outputs": [],
   "source": [
    "!sudo ln -s /usr/local/cuda-11.8 /usr/local/cuda"
   ]
  },
  {
   "attachments": {},
   "cell_type": "markdown",
   "id": "87cf176a",
   "metadata": {},
   "source": [
    "### Dependency setup"
   ]
  },
  {
   "cell_type": "code",
   "execution_count": 1,
   "id": "178c8d5e",
   "metadata": {},
   "outputs": [
    {
     "name": "stdout",
     "output_type": "stream",
     "text": [
      "E: Could not open lock file /var/lib/dpkg/lock-frontend - open (13: Permission denied)\n",
      "E: Unable to acquire the dpkg frontend lock (/var/lib/dpkg/lock-frontend), are you root?\n",
      "Requirement already satisfied: psutil in /home/aurif/miniconda3/envs/py38/lib/python3.8/site-packages (5.9.0)\n",
      "Note: you may need to restart the kernel to use updated packages.\n",
      "Collecting colored\n",
      "  Downloading colored-1.4.4.tar.gz (36 kB)\n",
      "  Preparing metadata (setup.py) ... \u001b[?25ldone\n",
      "\u001b[?25hBuilding wheels for collected packages: colored\n",
      "  Building wheel for colored (setup.py) ... \u001b[?25ldone\n",
      "\u001b[?25h  Created wheel for colored: filename=colored-1.4.4-py3-none-any.whl size=14248 sha256=9aeedd48dff9ab72e771f80e52ccd1977408f5f3f667469b7313aacc761420c4\n",
      "  Stored in directory: /home/aurif/.cache/pip/wheels/6b/1d/d8/57b7135b55f8edab11eef771777a2ca4665f922f012f71c77b\n",
      "Successfully built colored\n",
      "Installing collected packages: colored\n",
      "Successfully installed colored-1.4.4\n",
      "Note: you may need to restart the kernel to use updated packages.\n"
     ]
    }
   ],
   "source": [
    "!sudo apt-get install -y liblapacke.so.3"
   ]
  },
  {
   "cell_type": "code",
   "execution_count": null,
   "id": "a4ab98a6",
   "metadata": {},
   "outputs": [],
   "source": [
    "%pip install psutil\n",
    "%pip install colored"
   ]
  },
  {
   "cell_type": "code",
   "execution_count": 5,
   "id": "8b4b3260",
   "metadata": {},
   "outputs": [
    {
     "name": "stdout",
     "output_type": "stream",
     "text": [
      "Found existing installation: onnxruntime 1.10.0\n",
      "Uninstalling onnxruntime-1.10.0:\n",
      "  Successfully uninstalled onnxruntime-1.10.0\n",
      "Note: you may need to restart the kernel to use updated packages.\n",
      "Collecting onnxruntime-gpu==1.10.0\n",
      "  Downloading onnxruntime_gpu-1.10.0-cp38-cp38-manylinux_2_17_x86_64.manylinux2014_x86_64.whl (104.7 MB)\n",
      "\u001b[2K     \u001b[90m━━━━━━━━━━━━━━━━━━━━━━━━━━━━━━━━━━━━━━\u001b[0m \u001b[32m104.7/104.7 MB\u001b[0m \u001b[31m35.2 MB/s\u001b[0m eta \u001b[36m0:00:00\u001b[0m00:01\u001b[0m00:01\u001b[0m\n",
      "\u001b[?25hRequirement already satisfied: numpy>=1.16.6 in /home/aurif/miniconda3/envs/py38/lib/python3.8/site-packages (from onnxruntime-gpu==1.10.0) (1.23.5)\n",
      "Requirement already satisfied: flatbuffers in /home/aurif/miniconda3/envs/py38/lib/python3.8/site-packages (from onnxruntime-gpu==1.10.0) (23.5.26)\n",
      "Requirement already satisfied: protobuf in /home/aurif/miniconda3/envs/py38/lib/python3.8/site-packages (from onnxruntime-gpu==1.10.0) (3.20.1)\n",
      "Installing collected packages: onnxruntime-gpu\n",
      "Successfully installed onnxruntime-gpu-1.10.0\n",
      "Note: you may need to restart the kernel to use updated packages.\n"
     ]
    }
   ],
   "source": [
    "%pip uninstall -y onnxruntime\n",
    "%pip install --no-cache-dir onnxruntime-gpu==1.10.0 "
   ]
  },
  {
   "cell_type": "code",
   "execution_count": 3,
   "id": "f7ad1556",
   "metadata": {},
   "outputs": [
    {
     "name": "stdout",
     "output_type": "stream",
     "text": [
      "[sudo] password for aurif: \n"
     ]
    }
   ],
   "source": [
    "!sudo ln -s /usr/local/cuda-11.8 /usr/local/cuda"
   ]
  },
  {
   "attachments": {},
   "cell_type": "markdown",
   "id": "9d6ca2d5",
   "metadata": {},
   "source": [
    "### Aimet Setup"
   ]
  },
  {
   "cell_type": "code",
   "execution_count": 2,
   "id": "be467cce",
   "metadata": {
    "execution": {
     "iopub.execute_input": "2023-05-14T23:30:51.842092Z",
     "iopub.status.busy": "2023-05-14T23:30:51.841542Z",
     "iopub.status.idle": "2023-05-14T23:34:06.922887Z",
     "shell.execute_reply": "2023-05-14T23:34:06.921554Z"
    },
    "papermill": {
     "duration": 195.100683,
     "end_time": "2023-05-14T23:34:06.925676",
     "exception": false,
     "start_time": "2023-05-14T23:30:51.824993",
     "status": "completed"
    },
    "tags": []
   },
   "outputs": [],
   "source": [
    "%pip install https://github.com/quic/aimet/releases/download/1.25.0/AimetCommon-torch_gpu_1.25.0-cp38-cp38-linux_x86_64.whl\n",
    "%pip install https://github.com/quic/aimet/releases/download/1.25.0/AimetTorch-torch_gpu_1.25.0-cp38-cp38-linux_x86_64.whl -f https://download.pytorch.org/whl/torch_stable.html\n",
    "%pip install https://github.com/quic/aimet/releases/download/1.25.0/Aimet-torch_gpu_1.25.0-cp38-cp38-linux_x86_64.whl"
   ]
  },
  {
   "cell_type": "code",
   "execution_count": 2,
   "id": "8f5f1369",
   "metadata": {},
   "outputs": [
    {
     "name": "stdout",
     "output_type": "stream",
     "text": [
      "Cloning into 'aimet'...\n",
      "remote: Enumerating objects: 19170, done.\u001b[K\n",
      "remote: Counting objects: 100% (2141/2141), done.\u001b[K\n",
      "remote: Compressing objects: 100% (429/429), done.\u001b[K\n",
      "remote: Total 19170 (delta 1761), reused 1927 (delta 1705), pack-reused 17029\u001b[K\n",
      "Receiving objects: 100% (19170/19170), 10.36 MiB | 18.46 MiB/s, done.\n",
      "Resolving deltas: 100% (11858/11858), done.\n"
     ]
    }
   ],
   "source": [
    "!git clone https://github.com/quic/aimet.git\n",
    "!mv aimet/Examples ./"
   ]
  }
 ],
 "metadata": {
  "kernelspec": {
   "display_name": "Python 3",
   "language": "python",
   "name": "python3"
  },
  "language_info": {
   "codemirror_mode": {
    "name": "ipython",
    "version": 3
   },
   "file_extension": ".py",
   "mimetype": "text/x-python",
   "name": "python",
   "nbconvert_exporter": "python",
   "pygments_lexer": "ipython3",
   "version": "3.8.16"
  },
  "papermill": {
   "default_parameters": {},
   "duration": 1836.391866,
   "end_time": "2023-05-14T23:59:46.683749",
   "environment_variables": {},
   "exception": null,
   "input_path": "__notebook__.ipynb",
   "output_path": "__notebook__.ipynb",
   "parameters": {},
   "start_time": "2023-05-14T23:29:10.291883",
   "version": "2.4.0"
  }
 },
 "nbformat": 4,
 "nbformat_minor": 5
}
