{
 "cells": [
  {
   "attachments": {},
   "cell_type": "markdown",
   "id": "4e8befe2",
   "metadata": {},
   "source": [
    "### Pre-setup"
   ]
  },
  {
   "cell_type": "code",
   "execution_count": 2,
   "id": "54e34c6b",
   "metadata": {},
   "outputs": [],
   "source": [
    "import os\n",
    "os.environ['LD_LIBRARY_PATH']='/usr/local/nvidia/lib:/usr/local/nvidia/lib64:/usr/local/cuda/lib64:/usr/local/cuda/targets/x86_64-linux/lib'\n",
    "os.environ['CUDA_TOOLKIT_PATH']='/usr/local/cuda'\n",
    "os.environ['CUDNN_INSTALL_PATH']='/usr/local/cuda'\n",
    "os.environ['CUDA_HOME']='/usr/local/cuda'\n",
    "os.environ['NVIDIA_DRIVER_CAPABILITIES']='compute,utility'\n",
    "os.environ['NVIDIA_VISIBLE_DEVICES']='all'\n",
    "os.environ['PYTHONPATH']='~/miniconda3/envs/py38/lib/python3.8/site-packages/aimet_common/x86_64-linux-gnu'\n",
    "os.environ['LD_LIBRARY_PATH'] +=':~/miniconda3/envs/py38/lib/python3.8/site-packages/aimet_common'\n",
    "os.environ['LD_LIBRARY_PATH'] +=':~/miniconda3/envs/py38/lib/python3.8/site-packages/aimet_common/x86_64-linux-gnu'\n",
    "os.environ['LD_LIBRARY_PATH'] +=':~/miniconda3/envs/py38/lib/python3.8/site-packages'\n",
    "os.environ['LD_LIBRARY_PATH'] +=':/usr/lib/x86_64-linux-gnu/'"
   ]
  },
  {
   "cell_type": "code",
   "execution_count": 3,
   "id": "1d211e9c",
   "metadata": {},
   "outputs": [],
   "source": [
    "import sys\n",
    "sys.path.append('/root/miniconda3/envs/py38/lib/python3.8/site-packages/aimet_common')"
   ]
  },
  {
   "attachments": {},
   "cell_type": "markdown",
   "id": "6ee75780",
   "metadata": {},
   "source": [
    "### Code"
   ]
  },
  {
   "cell_type": "code",
   "execution_count": 4,
   "id": "6cd2e759",
   "metadata": {
    "execution": {
     "iopub.execute_input": "2023-05-14T23:34:43.525487Z",
     "iopub.status.busy": "2023-05-14T23:34:43.525185Z",
     "iopub.status.idle": "2023-05-14T23:34:43.537880Z",
     "shell.execute_reply": "2023-05-14T23:34:43.536622Z"
    },
    "papermill": {
     "duration": 0.032565,
     "end_time": "2023-05-14T23:34:43.539966",
     "exception": false,
     "start_time": "2023-05-14T23:34:43.507401",
     "status": "completed"
    },
    "tags": []
   },
   "outputs": [
    {
     "name": "stdout",
     "output_type": "stream",
     "text": [
      "2023-06-06 18:26:38,195 - Quant - INFO - Functional         : Adding new module for node: {add} \n",
      "2023-06-06 18:26:38,195 - Quant - INFO - Reused/Duplicate   : Adding new module for node: {layer1_0_relu_1} \n",
      "2023-06-06 18:26:38,195 - Quant - INFO - Functional         : Adding new module for node: {add_1} \n",
      "2023-06-06 18:26:38,196 - Quant - INFO - Reused/Duplicate   : Adding new module for node: {layer1_1_relu_1} \n",
      "2023-06-06 18:26:38,196 - Quant - INFO - Functional         : Adding new module for node: {add_2} \n",
      "2023-06-06 18:26:38,196 - Quant - INFO - Reused/Duplicate   : Adding new module for node: {layer2_0_relu_1} \n",
      "2023-06-06 18:26:38,196 - Quant - INFO - Functional         : Adding new module for node: {add_3} \n",
      "2023-06-06 18:26:38,197 - Quant - INFO - Reused/Duplicate   : Adding new module for node: {layer2_1_relu_1} \n",
      "2023-06-06 18:26:38,197 - Quant - INFO - Functional         : Adding new module for node: {add_4} \n",
      "2023-06-06 18:26:38,197 - Quant - INFO - Reused/Duplicate   : Adding new module for node: {layer3_0_relu_1} \n",
      "2023-06-06 18:26:38,197 - Quant - INFO - Functional         : Adding new module for node: {add_5} \n",
      "2023-06-06 18:26:38,197 - Quant - INFO - Reused/Duplicate   : Adding new module for node: {layer3_1_relu_1} \n",
      "2023-06-06 18:26:38,198 - Quant - INFO - Functional         : Adding new module for node: {add_6} \n",
      "2023-06-06 18:26:38,198 - Quant - INFO - Reused/Duplicate   : Adding new module for node: {layer4_0_relu_1} \n",
      "2023-06-06 18:26:38,198 - Quant - INFO - Functional         : Adding new module for node: {add_7} \n",
      "2023-06-06 18:26:38,198 - Quant - INFO - Reused/Duplicate   : Adding new module for node: {layer4_1_relu_1} \n",
      "Using cuda: True\n",
      "2023-06-06 18:26:38,325 - Dataloader - INFO - Dataset consists of 3923 images in 1000 classes\n",
      "2023-06-06 18:26:38,325 - Eval - INFO - No value of iteration is provided, running evaluation on complete dataset.\n",
      "2023-06-06 18:26:38,326 - Eval - INFO - Evaluating nn.Module for 123 iterations with batch_size 32\n"
     ]
    },
    {
     "name": "stderr",
     "output_type": "stream",
     "text": [
      "  0% (0 of 123) |                        | Elapsed Time: 0:00:00 ETA:  --:--:--\n",
      "  2% (3 of 123) |                        | Elapsed Time: 0:00:00 ETA:   0:00:04\n",
      "  3% (4 of 123) |                        | Elapsed Time: 0:00:00 ETA:   0:00:04\n",
      "  4% (5 of 123) |                        | Elapsed Time: 0:00:00 ETA:   0:00:06\n",
      "  5% (7 of 123) |#                       | Elapsed Time: 0:00:00 ETA:   0:00:07\n",
      "  6% (8 of 123) |#                       | Elapsed Time: 0:00:00 ETA:   0:00:07\n",
      "  8% (10 of 123) |#                      | Elapsed Time: 0:00:00 ETA:   0:00:07\n",
      "  8% (11 of 123) |##                     | Elapsed Time: 0:00:00 ETA:   0:00:07\n",
      " 10% (13 of 123) |##                     | Elapsed Time: 0:00:00 ETA:   0:00:07\n",
      " 12% (15 of 123) |##                     | Elapsed Time: 0:00:01 ETA:   0:00:08\n",
      " 13% (16 of 123) |##                     | Elapsed Time: 0:00:01 ETA:   0:00:08\n",
      " 14% (18 of 123) |###                    | Elapsed Time: 0:00:01 ETA:   0:00:07\n",
      " 15% (19 of 123) |###                    | Elapsed Time: 0:00:01 ETA:   0:00:07\n",
      " 17% (21 of 123) |###                    | Elapsed Time: 0:00:01 ETA:   0:00:07\n",
      " 17% (22 of 123) |####                   | Elapsed Time: 0:00:01 ETA:   0:00:07\n",
      " 19% (24 of 123) |####                   | Elapsed Time: 0:00:01 ETA:   0:00:07\n",
      " 20% (25 of 123) |####                   | Elapsed Time: 0:00:01 ETA:   0:00:07\n",
      " 21% (27 of 123) |#####                  | Elapsed Time: 0:00:02 ETA:   0:00:07\n",
      " 23% (29 of 123) |#####                  | Elapsed Time: 0:00:02 ETA:   0:00:07\n",
      " 24% (30 of 123) |#####                  | Elapsed Time: 0:00:02 ETA:   0:00:07\n",
      " 26% (32 of 123) |#####                  | Elapsed Time: 0:00:02 ETA:   0:00:07\n",
      " 26% (33 of 123) |######                 | Elapsed Time: 0:00:02 ETA:   0:00:07\n",
      " 27% (34 of 123) |######                 | Elapsed Time: 0:00:02 ETA:   0:00:07\n",
      " 28% (35 of 123) |######                 | Elapsed Time: 0:00:02 ETA:   0:00:07\n",
      " 29% (36 of 123) |######                 | Elapsed Time: 0:00:02 ETA:   0:00:07\n",
      " 30% (38 of 123) |#######                | Elapsed Time: 0:00:03 ETA:   0:00:07\n",
      " 31% (39 of 123) |#######                | Elapsed Time: 0:00:03 ETA:   0:00:06\n",
      " 33% (41 of 123) |#######                | Elapsed Time: 0:00:03 ETA:   0:00:06\n",
      " 34% (42 of 123) |#######                | Elapsed Time: 0:00:03 ETA:   0:00:06\n",
      " 34% (43 of 123) |########               | Elapsed Time: 0:00:03 ETA:   0:00:06\n",
      " 35% (44 of 123) |########               | Elapsed Time: 0:00:03 ETA:   0:00:06\n",
      " 37% (46 of 123) |########               | Elapsed Time: 0:00:03 ETA:   0:00:06\n",
      " 38% (47 of 123) |########               | Elapsed Time: 0:00:03 ETA:   0:00:06\n",
      " 39% (49 of 123) |#########              | Elapsed Time: 0:00:03 ETA:   0:00:06\n",
      " 40% (50 of 123) |#########              | Elapsed Time: 0:00:03 ETA:   0:00:06\n",
      " 41% (51 of 123) |#########              | Elapsed Time: 0:00:04 ETA:   0:00:06\n",
      " 42% (52 of 123) |#########              | Elapsed Time: 0:00:04 ETA:   0:00:05\n",
      " 43% (53 of 123) |#########              | Elapsed Time: 0:00:04 ETA:   0:00:05\n",
      " 44% (55 of 123) |##########             | Elapsed Time: 0:00:04 ETA:   0:00:05\n",
      " 46% (57 of 123) |##########             | Elapsed Time: 0:00:04 ETA:   0:00:05\n",
      " 47% (58 of 123) |##########             | Elapsed Time: 0:00:04 ETA:   0:00:05\n",
      " 47% (59 of 123) |###########            | Elapsed Time: 0:00:04 ETA:   0:00:05\n",
      " 48% (60 of 123) |###########            | Elapsed Time: 0:00:04 ETA:   0:00:05\n",
      " 49% (61 of 123) |###########            | Elapsed Time: 0:00:04 ETA:   0:00:05\n",
      " 51% (63 of 123) |###########            | Elapsed Time: 0:00:05 ETA:   0:00:04\n",
      " 52% (64 of 123) |###########            | Elapsed Time: 0:00:05 ETA:   0:00:04\n",
      " 53% (66 of 123) |############           | Elapsed Time: 0:00:05 ETA:   0:00:04\n",
      " 54% (67 of 123) |############           | Elapsed Time: 0:00:05 ETA:   0:00:04\n",
      " 56% (69 of 123) |############           | Elapsed Time: 0:00:05 ETA:   0:00:04\n",
      " 57% (71 of 123) |#############          | Elapsed Time: 0:00:05 ETA:   0:00:04\n",
      " 58% (72 of 123) |#############          | Elapsed Time: 0:00:05 ETA:   0:00:04\n",
      " 59% (73 of 123) |#############          | Elapsed Time: 0:00:05 ETA:   0:00:04\n",
      " 60% (74 of 123) |#############          | Elapsed Time: 0:00:06 ETA:   0:00:04\n",
      " 60% (75 of 123) |##############         | Elapsed Time: 0:00:06 ETA:   0:00:04\n",
      " 62% (77 of 123) |##############         | Elapsed Time: 0:00:06 ETA:   0:00:03\n",
      " 63% (78 of 123) |##############         | Elapsed Time: 0:00:06 ETA:   0:00:03\n",
      " 65% (80 of 123) |##############         | Elapsed Time: 0:00:06 ETA:   0:00:03\n",
      " 65% (81 of 123) |###############        | Elapsed Time: 0:00:06 ETA:   0:00:03\n",
      " 67% (83 of 123) |###############        | Elapsed Time: 0:00:06 ETA:   0:00:03\n",
      " 69% (85 of 123) |###############        | Elapsed Time: 0:00:06 ETA:   0:00:03\n",
      " 69% (86 of 123) |################       | Elapsed Time: 0:00:06 ETA:   0:00:02\n",
      " 71% (88 of 123) |################       | Elapsed Time: 0:00:07 ETA:   0:00:02\n",
      " 72% (89 of 123) |################       | Elapsed Time: 0:00:07 ETA:   0:00:02\n",
      " 73% (91 of 123) |#################      | Elapsed Time: 0:00:07 ETA:   0:00:02\n",
      " 74% (92 of 123) |#################      | Elapsed Time: 0:00:07 ETA:   0:00:02\n",
      " 76% (94 of 123) |#################      | Elapsed Time: 0:00:07 ETA:   0:00:02\n",
      " 77% (95 of 123) |#################      | Elapsed Time: 0:00:07 ETA:   0:00:02\n",
      " 78% (97 of 123) |##################     | Elapsed Time: 0:00:07 ETA:   0:00:02\n",
      " 80% (99 of 123) |##################     | Elapsed Time: 0:00:08 ETA:   0:00:01\n",
      " 81% (100 of 123) |#################     | Elapsed Time: 0:00:08 ETA:   0:00:01\n",
      " 82% (102 of 123) |##################    | Elapsed Time: 0:00:08 ETA:   0:00:01\n",
      " 83% (103 of 123) |##################    | Elapsed Time: 0:00:08 ETA:   0:00:01\n",
      " 85% (105 of 123) |##################    | Elapsed Time: 0:00:08 ETA:   0:00:01\n",
      " 86% (106 of 123) |##################    | Elapsed Time: 0:00:08 ETA:   0:00:01\n",
      " 87% (108 of 123) |###################   | Elapsed Time: 0:00:08 ETA:   0:00:01\n",
      " 88% (109 of 123) |###################   | Elapsed Time: 0:00:08 ETA:   0:00:01\n",
      " 90% (111 of 123) |###################   | Elapsed Time: 0:00:08 ETA:   0:00:00\n",
      " 91% (112 of 123) |####################  | Elapsed Time: 0:00:09 ETA:   0:00:00\n",
      " 91% (113 of 123) |####################  | Elapsed Time: 0:00:09 ETA:   0:00:00\n",
      " 92% (114 of 123) |####################  | Elapsed Time: 0:00:09 ETA:   0:00:00\n",
      " 94% (116 of 123) |####################  | Elapsed Time: 0:00:09 ETA:   0:00:00\n",
      " 95% (117 of 123) |####################  | Elapsed Time: 0:00:09 ETA:   0:00:00\n",
      " 96% (119 of 123) |##################### | Elapsed Time: 0:00:09 ETA:   0:00:00\n",
      " 97% (120 of 123) |##################### | Elapsed Time: 0:00:09 ETA:   0:00:00\n",
      " 99% (122 of 123) |##################### | Elapsed Time: 0:00:09 ETA:   0:00:00\n",
      "100% (123 of 123) |######################| Elapsed Time: 0:00:10 Time:  0:00:10\n"
     ]
    },
    {
     "name": "stdout",
     "output_type": "stream",
     "text": [
      "2023-06-06 18:26:48,633 - Eval - INFO - Avg accuracy Top 1: 69.755563 Avg accuracy Top 5: 88.600503 on validation Dataset\n",
      "###########################################################################################################\n",
      "Original model accuracy: 69.75556269699965\n",
      "###########################################################################################################\n",
      "2023-06-06 18:26:48,889 - Utils - INFO - ...... subset to store [Conv_0, BatchNormalization_1]\n",
      "2023-06-06 18:26:48,890 - Utils - INFO - ...... subset to store [Conv_4, BatchNormalization_5]\n",
      "2023-06-06 18:26:48,890 - Utils - INFO - ...... subset to store [Conv_7, BatchNormalization_8]\n",
      "2023-06-06 18:26:48,890 - Utils - INFO - ...... subset to store [Conv_11, BatchNormalization_12]\n",
      "2023-06-06 18:26:48,890 - Utils - INFO - ...... subset to store [Conv_14, BatchNormalization_15]\n",
      "2023-06-06 18:26:48,890 - Utils - INFO - ...... subset to store [Conv_18, BatchNormalization_19]\n",
      "2023-06-06 18:26:48,890 - Utils - INFO - ...... subset to store [Conv_21, BatchNormalization_22]\n",
      "2023-06-06 18:26:48,890 - Utils - INFO - ...... subset to store [Conv_27, BatchNormalization_28]\n",
      "2023-06-06 18:26:48,890 - Utils - INFO - ...... subset to store [Conv_30, BatchNormalization_31]\n",
      "2023-06-06 18:26:48,891 - Utils - INFO - ...... subset to store [Conv_34, BatchNormalization_35]\n",
      "2023-06-06 18:26:48,891 - Utils - INFO - ...... subset to store [Conv_37, BatchNormalization_38]\n",
      "2023-06-06 18:26:48,891 - Utils - INFO - ...... subset to store [Conv_43, BatchNormalization_44]\n",
      "2023-06-06 18:26:48,891 - Utils - INFO - ...... subset to store [Conv_46, BatchNormalization_47]\n",
      "2023-06-06 18:26:48,891 - Utils - INFO - ...... subset to store [Conv_50, BatchNormalization_51]\n",
      "2023-06-06 18:26:48,891 - Utils - INFO - ...... subset to store [Conv_53, BatchNormalization_54]\n",
      "2023-06-06 18:26:48,891 - Utils - INFO - ...... subset to store [Conv_59, BatchNormalization_60]\n",
      "2023-06-06 18:26:48,892 - Utils - INFO - ...... subset to store [Conv_62, BatchNormalization_63]\n",
      "2023-06-06 18:26:48,892 - Utils - INFO - ...... subset to store [Conv_55, BatchNormalization_56]\n",
      "2023-06-06 18:26:48,892 - Utils - INFO - ...... subset to store [Conv_39, BatchNormalization_40]\n",
      "2023-06-06 18:26:48,892 - Utils - INFO - ...... subset to store [Conv_23, BatchNormalization_24]\n",
      "2023-06-06 18:26:50,244 - Quant - INFO - No config file provided, defaulting to config file at /home/aurif/miniconda3/envs/py38/lib/python3.8/site-packages/aimet_common/quantsim_config/default_config.json\n",
      "2023-06-06 18:26:50,260 - Quant - INFO - Unsupported op type Squeeze\n",
      "2023-06-06 18:26:50,261 - Quant - INFO - Unsupported op type Pad\n",
      "2023-06-06 18:26:50,261 - Quant - INFO - Unsupported op type Mean\n",
      "2023-06-06 18:26:50,262 - Utils - INFO - ...... subset to store [Conv_0, Relu_2]\n",
      "2023-06-06 18:26:50,262 - Utils - INFO - ...... subset to store [Conv_4, Relu_6]\n",
      "2023-06-06 18:26:50,262 - Utils - INFO - ...... subset to store [Add_9, Relu_10]\n",
      "2023-06-06 18:26:50,262 - Utils - INFO - ...... subset to store [Conv_11, Relu_13]\n",
      "2023-06-06 18:26:50,263 - Utils - INFO - ...... subset to store [Add_16, Relu_17]\n",
      "2023-06-06 18:26:50,263 - Utils - INFO - ...... subset to store [Conv_18, Relu_20]\n",
      "2023-06-06 18:26:50,263 - Utils - INFO - ...... subset to store [Add_25, Relu_26]\n",
      "2023-06-06 18:26:50,263 - Utils - INFO - ...... subset to store [Conv_27, Relu_29]\n",
      "2023-06-06 18:26:50,263 - Utils - INFO - ...... subset to store [Add_32, Relu_33]\n",
      "2023-06-06 18:26:50,263 - Utils - INFO - ...... subset to store [Conv_34, Relu_36]\n",
      "2023-06-06 18:26:50,263 - Utils - INFO - ...... subset to store [Add_41, Relu_42]\n",
      "2023-06-06 18:26:50,263 - Utils - INFO - ...... subset to store [Conv_43, Relu_45]\n",
      "2023-06-06 18:26:50,264 - Utils - INFO - ...... subset to store [Add_48, Relu_49]\n",
      "2023-06-06 18:26:50,264 - Utils - INFO - ...... subset to store [Conv_50, Relu_52]\n",
      "2023-06-06 18:26:50,264 - Utils - INFO - ...... subset to store [Add_57, Relu_58]\n",
      "2023-06-06 18:26:50,264 - Utils - INFO - ...... subset to store [Conv_59, Relu_61]\n",
      "2023-06-06 18:26:50,264 - Utils - INFO - ...... subset to store [Add_64, Relu_65]\n",
      "2023-06-06 18:26:50,264 - Quant - INFO - Selecting DefaultOpInstanceConfigGenerator to compute the specialized config. hw_version:default\n",
      "2023-06-06 18:26:50,397 - Dataloader - INFO - Dataset consists of 3923 images in 1000 classes\n",
      "2023-06-06 18:26:55,357 - Dataloader - INFO - Dataset consists of 3923 images in 1000 classes\n",
      "2023-06-06 18:26:55,358 - Eval - INFO - No value of iteration is provided, running evaluation on complete dataset.\n",
      "2023-06-06 18:26:55,358 - Eval - INFO - Evaluating nn.Module for 123 iterations with batch_size 32\n"
     ]
    },
    {
     "name": "stderr",
     "output_type": "stream",
     "text": [
      "  0% (0 of 123) |                        | Elapsed Time: 0:00:00 ETA:  --:--:--\n",
      "  1% (2 of 123) |                        | Elapsed Time: 0:00:00 ETA:  00:00:00\n",
      "  3% (4 of 123) |                        | Elapsed Time: 0:00:00 ETA:   0:00:07\n",
      "  4% (5 of 123) |                        | Elapsed Time: 0:00:00 ETA:   0:00:07\n",
      "  5% (7 of 123) |#                       | Elapsed Time: 0:00:00 ETA:   0:00:08\n",
      "  6% (8 of 123) |#                       | Elapsed Time: 0:00:00 ETA:   0:00:08\n",
      "  8% (10 of 123) |#                      | Elapsed Time: 0:00:00 ETA:   0:00:08\n",
      "  8% (11 of 123) |##                     | Elapsed Time: 0:00:00 ETA:   0:00:08\n",
      " 10% (13 of 123) |##                     | Elapsed Time: 0:00:00 ETA:   0:00:08\n",
      " 12% (15 of 123) |##                     | Elapsed Time: 0:00:01 ETA:   0:00:08\n",
      " 13% (16 of 123) |##                     | Elapsed Time: 0:00:01 ETA:   0:00:08\n",
      " 14% (18 of 123) |###                    | Elapsed Time: 0:00:01 ETA:   0:00:08\n",
      " 15% (19 of 123) |###                    | Elapsed Time: 0:00:01 ETA:   0:00:08\n",
      " 17% (21 of 123) |###                    | Elapsed Time: 0:00:01 ETA:   0:00:07\n",
      " 17% (22 of 123) |####                   | Elapsed Time: 0:00:01 ETA:   0:00:07\n",
      " 19% (24 of 123) |####                   | Elapsed Time: 0:00:01 ETA:   0:00:07\n",
      " 20% (25 of 123) |####                   | Elapsed Time: 0:00:01 ETA:   0:00:07\n",
      " 21% (27 of 123) |#####                  | Elapsed Time: 0:00:02 ETA:   0:00:07\n",
      " 23% (29 of 123) |#####                  | Elapsed Time: 0:00:02 ETA:   0:00:07\n",
      " 24% (30 of 123) |#####                  | Elapsed Time: 0:00:02 ETA:   0:00:07\n",
      " 26% (32 of 123) |#####                  | Elapsed Time: 0:00:02 ETA:   0:00:07\n",
      " 26% (33 of 123) |######                 | Elapsed Time: 0:00:02 ETA:   0:00:07\n",
      " 27% (34 of 123) |######                 | Elapsed Time: 0:00:02 ETA:   0:00:07\n",
      " 28% (35 of 123) |######                 | Elapsed Time: 0:00:02 ETA:   0:00:07\n",
      " 29% (36 of 123) |######                 | Elapsed Time: 0:00:02 ETA:   0:00:07\n",
      " 30% (38 of 123) |#######                | Elapsed Time: 0:00:03 ETA:   0:00:06\n",
      " 31% (39 of 123) |#######                | Elapsed Time: 0:00:03 ETA:   0:00:06\n",
      " 33% (41 of 123) |#######                | Elapsed Time: 0:00:03 ETA:   0:00:06\n",
      " 34% (42 of 123) |#######                | Elapsed Time: 0:00:03 ETA:   0:00:06\n",
      " 34% (43 of 123) |########               | Elapsed Time: 0:00:03 ETA:   0:00:06\n",
      " 35% (44 of 123) |########               | Elapsed Time: 0:00:03 ETA:   0:00:06\n",
      " 37% (46 of 123) |########               | Elapsed Time: 0:00:03 ETA:   0:00:06\n",
      " 38% (47 of 123) |########               | Elapsed Time: 0:00:03 ETA:   0:00:06\n",
      " 39% (49 of 123) |#########              | Elapsed Time: 0:00:03 ETA:   0:00:06\n",
      " 40% (50 of 123) |#########              | Elapsed Time: 0:00:03 ETA:   0:00:05\n",
      " 41% (51 of 123) |#########              | Elapsed Time: 0:00:04 ETA:   0:00:05\n",
      " 42% (52 of 123) |#########              | Elapsed Time: 0:00:04 ETA:   0:00:05\n",
      " 43% (53 of 123) |#########              | Elapsed Time: 0:00:04 ETA:   0:00:05\n",
      " 44% (55 of 123) |##########             | Elapsed Time: 0:00:04 ETA:   0:00:05\n",
      " 46% (57 of 123) |##########             | Elapsed Time: 0:00:04 ETA:   0:00:05\n",
      " 47% (58 of 123) |##########             | Elapsed Time: 0:00:04 ETA:   0:00:05\n",
      " 48% (60 of 123) |###########            | Elapsed Time: 0:00:04 ETA:   0:00:05\n",
      " 49% (61 of 123) |###########            | Elapsed Time: 0:00:04 ETA:   0:00:05\n",
      " 51% (63 of 123) |###########            | Elapsed Time: 0:00:05 ETA:   0:00:04\n",
      " 52% (64 of 123) |###########            | Elapsed Time: 0:00:05 ETA:   0:00:04\n",
      " 53% (66 of 123) |############           | Elapsed Time: 0:00:05 ETA:   0:00:04\n",
      " 54% (67 of 123) |############           | Elapsed Time: 0:00:05 ETA:   0:00:04\n",
      " 56% (69 of 123) |############           | Elapsed Time: 0:00:05 ETA:   0:00:04\n",
      " 57% (71 of 123) |#############          | Elapsed Time: 0:00:05 ETA:   0:00:04\n",
      " 58% (72 of 123) |#############          | Elapsed Time: 0:00:05 ETA:   0:00:04\n",
      " 59% (73 of 123) |#############          | Elapsed Time: 0:00:05 ETA:   0:00:04\n",
      " 60% (74 of 123) |#############          | Elapsed Time: 0:00:05 ETA:   0:00:03\n",
      " 60% (75 of 123) |##############         | Elapsed Time: 0:00:06 ETA:   0:00:03\n",
      " 62% (77 of 123) |##############         | Elapsed Time: 0:00:06 ETA:   0:00:03\n",
      " 63% (78 of 123) |##############         | Elapsed Time: 0:00:06 ETA:   0:00:03\n",
      " 65% (80 of 123) |##############         | Elapsed Time: 0:00:06 ETA:   0:00:03\n",
      " 65% (81 of 123) |###############        | Elapsed Time: 0:00:06 ETA:   0:00:03\n",
      " 67% (83 of 123) |###############        | Elapsed Time: 0:00:06 ETA:   0:00:03\n",
      " 69% (85 of 123) |###############        | Elapsed Time: 0:00:06 ETA:   0:00:03\n",
      " 69% (86 of 123) |################       | Elapsed Time: 0:00:06 ETA:   0:00:02\n",
      " 71% (88 of 123) |################       | Elapsed Time: 0:00:07 ETA:   0:00:02\n",
      " 72% (89 of 123) |################       | Elapsed Time: 0:00:07 ETA:   0:00:02\n",
      " 73% (91 of 123) |#################      | Elapsed Time: 0:00:07 ETA:   0:00:02\n",
      " 74% (92 of 123) |#################      | Elapsed Time: 0:00:07 ETA:   0:00:02\n",
      " 76% (94 of 123) |#################      | Elapsed Time: 0:00:07 ETA:   0:00:02\n",
      " 77% (95 of 123) |#################      | Elapsed Time: 0:00:07 ETA:   0:00:02\n",
      " 78% (97 of 123) |##################     | Elapsed Time: 0:00:07 ETA:   0:00:02\n",
      " 80% (99 of 123) |##################     | Elapsed Time: 0:00:07 ETA:   0:00:01\n",
      " 81% (100 of 123) |#################     | Elapsed Time: 0:00:08 ETA:   0:00:01\n",
      " 82% (102 of 123) |##################    | Elapsed Time: 0:00:08 ETA:   0:00:01\n",
      " 83% (103 of 123) |##################    | Elapsed Time: 0:00:08 ETA:   0:00:01\n",
      " 85% (105 of 123) |##################    | Elapsed Time: 0:00:08 ETA:   0:00:01\n",
      " 86% (106 of 123) |##################    | Elapsed Time: 0:00:08 ETA:   0:00:01\n",
      " 87% (108 of 123) |###################   | Elapsed Time: 0:00:08 ETA:   0:00:01\n",
      " 88% (109 of 123) |###################   | Elapsed Time: 0:00:08 ETA:   0:00:01\n",
      " 90% (111 of 123) |###################   | Elapsed Time: 0:00:08 ETA:   0:00:00\n",
      " 91% (112 of 123) |####################  | Elapsed Time: 0:00:09 ETA:   0:00:00\n",
      " 91% (113 of 123) |####################  | Elapsed Time: 0:00:09 ETA:   0:00:00\n",
      " 92% (114 of 123) |####################  | Elapsed Time: 0:00:09 ETA:   0:00:00\n",
      " 94% (116 of 123) |####################  | Elapsed Time: 0:00:09 ETA:   0:00:00\n",
      " 95% (117 of 123) |####################  | Elapsed Time: 0:00:09 ETA:   0:00:00\n",
      " 96% (119 of 123) |##################### | Elapsed Time: 0:00:09 ETA:   0:00:00\n",
      " 97% (120 of 123) |##################### | Elapsed Time: 0:00:09 ETA:   0:00:00\n",
      " 99% (122 of 123) |##################### | Elapsed Time: 0:00:09 ETA:   0:00:00\n",
      "100% (123 of 123) |######################| Elapsed Time: 0:00:10 Time:  0:00:10\n"
     ]
    },
    {
     "name": "stdout",
     "output_type": "stream",
     "text": [
      "2023-06-06 18:27:05,538 - Eval - INFO - Avg accuracy Top 1: 17.863447 Avg accuracy Top 5: 38.470796 on validation Dataset\n",
      "###########################################################################################################\n",
      "Quantized (nearest) model accuracy: 17.86344672412407\n",
      "###########################################################################################################\n",
      "2023-06-06 18:27:05,673 - Quant - INFO - No config file provided, defaulting to config file at /home/aurif/miniconda3/envs/py38/lib/python3.8/site-packages/aimet_common/quantsim_config/default_config.json\n",
      "2023-06-06 18:27:05,681 - Quant - INFO - Unsupported op type Squeeze\n",
      "2023-06-06 18:27:05,682 - Quant - INFO - Unsupported op type Pad\n",
      "2023-06-06 18:27:05,682 - Quant - INFO - Unsupported op type Mean\n",
      "2023-06-06 18:27:05,683 - Utils - INFO - ...... subset to store [Conv_0, Relu_2]\n",
      "2023-06-06 18:27:05,683 - Utils - INFO - ...... subset to store [Conv_4, Relu_6]\n",
      "2023-06-06 18:27:05,683 - Utils - INFO - ...... subset to store [Add_9, Relu_10]\n",
      "2023-06-06 18:27:05,684 - Utils - INFO - ...... subset to store [Conv_11, Relu_13]\n",
      "2023-06-06 18:27:05,684 - Utils - INFO - ...... subset to store [Add_16, Relu_17]\n",
      "2023-06-06 18:27:05,684 - Utils - INFO - ...... subset to store [Conv_18, Relu_20]\n",
      "2023-06-06 18:27:05,684 - Utils - INFO - ...... subset to store [Add_25, Relu_26]\n",
      "2023-06-06 18:27:05,684 - Utils - INFO - ...... subset to store [Conv_27, Relu_29]\n",
      "2023-06-06 18:27:05,684 - Utils - INFO - ...... subset to store [Add_32, Relu_33]\n",
      "2023-06-06 18:27:05,684 - Utils - INFO - ...... subset to store [Conv_34, Relu_36]\n",
      "2023-06-06 18:27:05,685 - Utils - INFO - ...... subset to store [Add_41, Relu_42]\n",
      "2023-06-06 18:27:05,685 - Utils - INFO - ...... subset to store [Conv_43, Relu_45]\n",
      "2023-06-06 18:27:05,685 - Utils - INFO - ...... subset to store [Add_48, Relu_49]\n",
      "2023-06-06 18:27:05,685 - Utils - INFO - ...... subset to store [Conv_50, Relu_52]\n",
      "2023-06-06 18:27:05,685 - Utils - INFO - ...... subset to store [Add_57, Relu_58]\n",
      "2023-06-06 18:27:05,685 - Utils - INFO - ...... subset to store [Conv_59, Relu_61]\n",
      "2023-06-06 18:27:05,685 - Utils - INFO - ...... subset to store [Add_64, Relu_65]\n",
      "2023-06-06 18:27:05,685 - Quant - INFO - Selecting DefaultOpInstanceConfigGenerator to compute the specialized config. hw_version:default\n",
      "2023-06-06 18:27:05,802 - Dataloader - INFO - Dataset consists of 3923 images in 1000 classes\n",
      "2023-06-06 18:27:10,093 - Dataloader - INFO - Dataset consists of 3923 images in 1000 classes\n",
      "2023-06-06 18:27:10,093 - Eval - INFO - No value of iteration is provided, running evaluation on complete dataset.\n",
      "2023-06-06 18:27:10,094 - Eval - INFO - Evaluating nn.Module for 123 iterations with batch_size 32\n"
     ]
    },
    {
     "name": "stderr",
     "output_type": "stream",
     "text": [
      "  0% (0 of 123) |                        | Elapsed Time: 0:00:00 ETA:  --:--:--\n",
      "  1% (2 of 123) |                        | Elapsed Time: 0:00:00 ETA:  00:00:00\n",
      "  3% (4 of 123) |                        | Elapsed Time: 0:00:00 ETA:   0:00:07\n",
      "  4% (5 of 123) |                        | Elapsed Time: 0:00:00 ETA:   0:00:07\n",
      "  5% (7 of 123) |#                       | Elapsed Time: 0:00:00 ETA:   0:00:08\n",
      "  6% (8 of 123) |#                       | Elapsed Time: 0:00:00 ETA:   0:00:08\n",
      "  8% (10 of 123) |#                      | Elapsed Time: 0:00:00 ETA:   0:00:08\n",
      "  8% (11 of 123) |##                     | Elapsed Time: 0:00:00 ETA:   0:00:08\n",
      " 10% (13 of 123) |##                     | Elapsed Time: 0:00:00 ETA:   0:00:08\n",
      " 12% (15 of 123) |##                     | Elapsed Time: 0:00:01 ETA:   0:00:08\n",
      " 13% (16 of 123) |##                     | Elapsed Time: 0:00:01 ETA:   0:00:08\n",
      " 14% (18 of 123) |###                    | Elapsed Time: 0:00:01 ETA:   0:00:08\n",
      " 15% (19 of 123) |###                    | Elapsed Time: 0:00:01 ETA:   0:00:08\n",
      " 17% (21 of 123) |###                    | Elapsed Time: 0:00:01 ETA:   0:00:08\n",
      " 17% (22 of 123) |####                   | Elapsed Time: 0:00:01 ETA:   0:00:07\n",
      " 19% (24 of 123) |####                   | Elapsed Time: 0:00:01 ETA:   0:00:07\n",
      " 20% (25 of 123) |####                   | Elapsed Time: 0:00:01 ETA:   0:00:07\n",
      " 21% (27 of 123) |#####                  | Elapsed Time: 0:00:02 ETA:   0:00:07\n",
      " 23% (29 of 123) |#####                  | Elapsed Time: 0:00:02 ETA:   0:00:07\n",
      " 24% (30 of 123) |#####                  | Elapsed Time: 0:00:02 ETA:   0:00:07\n",
      " 26% (32 of 123) |#####                  | Elapsed Time: 0:00:02 ETA:   0:00:07\n",
      " 26% (33 of 123) |######                 | Elapsed Time: 0:00:02 ETA:   0:00:07\n",
      " 27% (34 of 123) |######                 | Elapsed Time: 0:00:02 ETA:   0:00:07\n",
      " 28% (35 of 123) |######                 | Elapsed Time: 0:00:02 ETA:   0:00:07\n",
      " 29% (36 of 123) |######                 | Elapsed Time: 0:00:02 ETA:   0:00:07\n",
      " 30% (38 of 123) |#######                | Elapsed Time: 0:00:03 ETA:   0:00:07\n",
      " 31% (39 of 123) |#######                | Elapsed Time: 0:00:03 ETA:   0:00:06\n",
      " 33% (41 of 123) |#######                | Elapsed Time: 0:00:03 ETA:   0:00:06\n",
      " 34% (42 of 123) |#######                | Elapsed Time: 0:00:03 ETA:   0:00:06\n",
      " 34% (43 of 123) |########               | Elapsed Time: 0:00:03 ETA:   0:00:06\n",
      " 35% (44 of 123) |########               | Elapsed Time: 0:00:03 ETA:   0:00:06\n",
      " 37% (46 of 123) |########               | Elapsed Time: 0:00:03 ETA:   0:00:06\n",
      " 38% (47 of 123) |########               | Elapsed Time: 0:00:03 ETA:   0:00:06\n",
      " 39% (49 of 123) |#########              | Elapsed Time: 0:00:03 ETA:   0:00:06\n",
      " 40% (50 of 123) |#########              | Elapsed Time: 0:00:04 ETA:   0:00:06\n",
      " 41% (51 of 123) |#########              | Elapsed Time: 0:00:04 ETA:   0:00:05\n",
      " 42% (52 of 123) |#########              | Elapsed Time: 0:00:04 ETA:   0:00:05\n",
      " 43% (53 of 123) |#########              | Elapsed Time: 0:00:04 ETA:   0:00:05\n",
      " 44% (55 of 123) |##########             | Elapsed Time: 0:00:04 ETA:   0:00:05\n",
      " 46% (57 of 123) |##########             | Elapsed Time: 0:00:04 ETA:   0:00:05\n",
      " 47% (58 of 123) |##########             | Elapsed Time: 0:00:04 ETA:   0:00:05\n",
      " 47% (59 of 123) |###########            | Elapsed Time: 0:00:04 ETA:   0:00:05\n",
      " 48% (60 of 123) |###########            | Elapsed Time: 0:00:04 ETA:   0:00:05\n",
      " 49% (61 of 123) |###########            | Elapsed Time: 0:00:04 ETA:   0:00:05\n",
      " 51% (63 of 123) |###########            | Elapsed Time: 0:00:05 ETA:   0:00:04\n",
      " 52% (64 of 123) |###########            | Elapsed Time: 0:00:05 ETA:   0:00:04\n",
      " 53% (66 of 123) |############           | Elapsed Time: 0:00:05 ETA:   0:00:04\n",
      " 54% (67 of 123) |############           | Elapsed Time: 0:00:05 ETA:   0:00:04\n",
      " 56% (69 of 123) |############           | Elapsed Time: 0:00:05 ETA:   0:00:04\n",
      " 57% (71 of 123) |#############          | Elapsed Time: 0:00:05 ETA:   0:00:04\n",
      " 58% (72 of 123) |#############          | Elapsed Time: 0:00:05 ETA:   0:00:04\n",
      " 59% (73 of 123) |#############          | Elapsed Time: 0:00:05 ETA:   0:00:04\n",
      " 60% (74 of 123) |#############          | Elapsed Time: 0:00:06 ETA:   0:00:03\n",
      " 60% (75 of 123) |##############         | Elapsed Time: 0:00:06 ETA:   0:00:03\n",
      " 62% (77 of 123) |##############         | Elapsed Time: 0:00:06 ETA:   0:00:03\n",
      " 63% (78 of 123) |##############         | Elapsed Time: 0:00:06 ETA:   0:00:03\n",
      " 65% (80 of 123) |##############         | Elapsed Time: 0:00:06 ETA:   0:00:03\n",
      " 65% (81 of 123) |###############        | Elapsed Time: 0:00:06 ETA:   0:00:03\n",
      " 67% (83 of 123) |###############        | Elapsed Time: 0:00:06 ETA:   0:00:03\n",
      " 69% (85 of 123) |###############        | Elapsed Time: 0:00:06 ETA:   0:00:03\n",
      " 69% (86 of 123) |################       | Elapsed Time: 0:00:06 ETA:   0:00:02\n",
      " 71% (88 of 123) |################       | Elapsed Time: 0:00:07 ETA:   0:00:02\n",
      " 72% (89 of 123) |################       | Elapsed Time: 0:00:07 ETA:   0:00:02\n",
      " 73% (91 of 123) |#################      | Elapsed Time: 0:00:07 ETA:   0:00:02\n",
      " 74% (92 of 123) |#################      | Elapsed Time: 0:00:07 ETA:   0:00:02\n",
      " 76% (94 of 123) |#################      | Elapsed Time: 0:00:07 ETA:   0:00:02\n",
      " 77% (95 of 123) |#################      | Elapsed Time: 0:00:07 ETA:   0:00:02\n",
      " 78% (97 of 123) |##################     | Elapsed Time: 0:00:07 ETA:   0:00:02\n",
      " 80% (99 of 123) |##################     | Elapsed Time: 0:00:07 ETA:   0:00:01\n",
      " 81% (100 of 123) |#################     | Elapsed Time: 0:00:08 ETA:   0:00:01\n",
      " 82% (102 of 123) |##################    | Elapsed Time: 0:00:08 ETA:   0:00:01\n",
      " 83% (103 of 123) |##################    | Elapsed Time: 0:00:08 ETA:   0:00:01\n",
      " 85% (105 of 123) |##################    | Elapsed Time: 0:00:08 ETA:   0:00:01\n",
      " 86% (106 of 123) |##################    | Elapsed Time: 0:00:08 ETA:   0:00:01\n",
      " 87% (108 of 123) |###################   | Elapsed Time: 0:00:08 ETA:   0:00:01\n",
      " 88% (109 of 123) |###################   | Elapsed Time: 0:00:08 ETA:   0:00:01\n",
      " 90% (111 of 123) |###################   | Elapsed Time: 0:00:08 ETA:   0:00:00\n",
      " 91% (112 of 123) |####################  | Elapsed Time: 0:00:09 ETA:   0:00:00\n",
      " 91% (113 of 123) |####################  | Elapsed Time: 0:00:09 ETA:   0:00:00\n",
      " 92% (114 of 123) |####################  | Elapsed Time: 0:00:09 ETA:   0:00:00\n",
      " 94% (116 of 123) |####################  | Elapsed Time: 0:00:09 ETA:   0:00:00\n",
      " 95% (117 of 123) |####################  | Elapsed Time: 0:00:09 ETA:   0:00:00\n",
      " 96% (119 of 123) |##################### | Elapsed Time: 0:00:09 ETA:   0:00:00\n",
      " 97% (120 of 123) |##################### | Elapsed Time: 0:00:09 ETA:   0:00:00\n",
      " 99% (122 of 123) |##################### | Elapsed Time: 0:00:09 ETA:   0:00:00\n",
      "100% (123 of 123) |######################| Elapsed Time: 0:00:10 Time:  0:00:10\n"
     ]
    },
    {
     "name": "stdout",
     "output_type": "stream",
     "text": [
      "2023-06-06 18:27:20,273 - Eval - INFO - Avg accuracy Top 1: 17.863447 Avg accuracy Top 5: 38.470796 on validation Dataset\n",
      "###########################################################################################################\n",
      "Quantized (stochastic) model accuracy: 17.86344672412407\n",
      "###########################################################################################################\n",
      "2023-06-06 18:27:20,381 - Dataloader - INFO - Dataset consists of 3923 images in 1000 classes\n",
      "2023-06-06 18:27:20,517 - Quant - INFO - No config file provided, defaulting to config file at /home/aurif/miniconda3/envs/py38/lib/python3.8/site-packages/aimet_common/quantsim_config/default_config.json\n",
      "2023-06-06 18:27:20,526 - Quant - INFO - Unsupported op type Squeeze\n",
      "2023-06-06 18:27:20,526 - Quant - INFO - Unsupported op type Pad\n",
      "2023-06-06 18:27:20,526 - Quant - INFO - Unsupported op type Mean\n",
      "2023-06-06 18:27:20,528 - Utils - INFO - ...... subset to store [Conv_0, Relu_2]\n",
      "2023-06-06 18:27:20,528 - Utils - INFO - ...... subset to store [Conv_4, Relu_6]\n",
      "2023-06-06 18:27:20,528 - Utils - INFO - ...... subset to store [Add_9, Relu_10]\n",
      "2023-06-06 18:27:20,528 - Utils - INFO - ...... subset to store [Conv_11, Relu_13]\n",
      "2023-06-06 18:27:20,528 - Utils - INFO - ...... subset to store [Add_16, Relu_17]\n",
      "2023-06-06 18:27:20,529 - Utils - INFO - ...... subset to store [Conv_18, Relu_20]\n",
      "2023-06-06 18:27:20,529 - Utils - INFO - ...... subset to store [Add_25, Relu_26]\n",
      "2023-06-06 18:27:20,529 - Utils - INFO - ...... subset to store [Conv_27, Relu_29]\n",
      "2023-06-06 18:27:20,529 - Utils - INFO - ...... subset to store [Add_32, Relu_33]\n",
      "2023-06-06 18:27:20,529 - Utils - INFO - ...... subset to store [Conv_34, Relu_36]\n",
      "2023-06-06 18:27:20,529 - Utils - INFO - ...... subset to store [Add_41, Relu_42]\n",
      "2023-06-06 18:27:20,530 - Utils - INFO - ...... subset to store [Conv_43, Relu_45]\n",
      "2023-06-06 18:27:20,530 - Utils - INFO - ...... subset to store [Add_48, Relu_49]\n",
      "2023-06-06 18:27:20,530 - Utils - INFO - ...... subset to store [Conv_50, Relu_52]\n",
      "2023-06-06 18:27:20,530 - Utils - INFO - ...... subset to store [Add_57, Relu_58]\n",
      "2023-06-06 18:27:20,530 - Utils - INFO - ...... subset to store [Conv_59, Relu_61]\n",
      "2023-06-06 18:27:20,530 - Utils - INFO - ...... subset to store [Add_64, Relu_65]\n",
      "2023-06-06 18:27:20,531 - Quant - INFO - Selecting DefaultOpInstanceConfigGenerator to compute the specialized config. hw_version:default\n",
      "2023-06-06 18:27:22,240 - Utils - INFO - Caching 16 batches from data loader at path location: /tmp/adaround/\n"
     ]
    },
    {
     "name": "stderr",
     "output_type": "stream",
     "text": [
      "                                      \r"
     ]
    },
    {
     "name": "stdout",
     "output_type": "stream",
     "text": [
      "2023-06-06 18:27:22,249 - Quant - INFO - Started Optimizing weight rounding of module: conv1\n"
     ]
    },
    {
     "name": "stderr",
     "output_type": "stream",
     "text": [
      "                                                 \r"
     ]
    },
    {
     "name": "stdout",
     "output_type": "stream",
     "text": [
      "2023-06-06 18:30:02,610 - Quant - INFO - Started Optimizing weight rounding of module: layer1.0.conv1\n"
     ]
    },
    {
     "name": "stderr",
     "output_type": "stream",
     "text": [
      "                                                 \r"
     ]
    },
    {
     "name": "stdout",
     "output_type": "stream",
     "text": [
      "2023-06-06 18:31:01,171 - Quant - INFO - Started Optimizing weight rounding of module: layer1.0.conv2\n"
     ]
    },
    {
     "name": "stderr",
     "output_type": "stream",
     "text": [
      "                                              \r"
     ]
    },
    {
     "name": "stdout",
     "output_type": "stream",
     "text": [
      "2023-06-06 18:31:38,450 - Quant - INFO - Started Optimizing weight rounding of module: layer1.1.conv1\n"
     ]
    },
    {
     "name": "stderr",
     "output_type": "stream",
     "text": [
      "                                               \r"
     ]
    },
    {
     "name": "stdout",
     "output_type": "stream",
     "text": [
      "2023-06-06 18:32:23,126 - Quant - INFO - Started Optimizing weight rounding of module: layer1.1.conv2\n"
     ]
    },
    {
     "name": "stderr",
     "output_type": "stream",
     "text": [
      "                                               \r"
     ]
    },
    {
     "name": "stdout",
     "output_type": "stream",
     "text": [
      "2023-06-06 18:32:59,134 - Quant - INFO - Started Optimizing weight rounding of module: layer2.0.conv1\n"
     ]
    },
    {
     "name": "stderr",
     "output_type": "stream",
     "text": [
      "                                               \r"
     ]
    },
    {
     "name": "stdout",
     "output_type": "stream",
     "text": [
      "2023-06-06 18:33:23,475 - Quant - INFO - Started Optimizing weight rounding of module: layer2.0.conv2\n"
     ]
    },
    {
     "name": "stderr",
     "output_type": "stream",
     "text": [
      "                                               \r"
     ]
    },
    {
     "name": "stdout",
     "output_type": "stream",
     "text": [
      "2023-06-06 18:33:47,990 - Quant - INFO - Started Optimizing weight rounding of module: layer2.0.downsample.0\n"
     ]
    },
    {
     "name": "stderr",
     "output_type": "stream",
     "text": [
      "                                               \r"
     ]
    },
    {
     "name": "stdout",
     "output_type": "stream",
     "text": [
      "2023-06-06 18:34:11,741 - Quant - INFO - Started Optimizing weight rounding of module: layer2.1.conv1\n"
     ]
    },
    {
     "name": "stderr",
     "output_type": "stream",
     "text": [
      "                                               \r"
     ]
    },
    {
     "name": "stdout",
     "output_type": "stream",
     "text": [
      "2023-06-06 18:34:50,428 - Quant - INFO - Started Optimizing weight rounding of module: layer2.1.conv2\n"
     ]
    },
    {
     "name": "stderr",
     "output_type": "stream",
     "text": [
      "                                               \r"
     ]
    },
    {
     "name": "stdout",
     "output_type": "stream",
     "text": [
      "2023-06-06 18:35:26,143 - Quant - INFO - Started Optimizing weight rounding of module: layer3.0.conv1\n"
     ]
    },
    {
     "name": "stderr",
     "output_type": "stream",
     "text": [
      "                                               \r"
     ]
    },
    {
     "name": "stdout",
     "output_type": "stream",
     "text": [
      "2023-06-06 18:35:49,846 - Quant - INFO - Started Optimizing weight rounding of module: layer3.0.conv2\n"
     ]
    },
    {
     "name": "stderr",
     "output_type": "stream",
     "text": [
      "                                               \r"
     ]
    },
    {
     "name": "stdout",
     "output_type": "stream",
     "text": [
      "2023-06-06 18:36:12,776 - Quant - INFO - Started Optimizing weight rounding of module: layer3.0.downsample.0\n"
     ]
    },
    {
     "name": "stderr",
     "output_type": "stream",
     "text": [
      "                                               \r"
     ]
    },
    {
     "name": "stdout",
     "output_type": "stream",
     "text": [
      "2023-06-06 18:36:29,033 - Quant - INFO - Started Optimizing weight rounding of module: layer3.1.conv1\n"
     ]
    },
    {
     "name": "stderr",
     "output_type": "stream",
     "text": [
      "                                               \r"
     ]
    },
    {
     "name": "stdout",
     "output_type": "stream",
     "text": [
      "2023-06-06 18:37:02,059 - Quant - INFO - Started Optimizing weight rounding of module: layer3.1.conv2\n"
     ]
    },
    {
     "name": "stderr",
     "output_type": "stream",
     "text": [
      "                                               \r"
     ]
    },
    {
     "name": "stdout",
     "output_type": "stream",
     "text": [
      "2023-06-06 18:37:29,368 - Quant - INFO - Started Optimizing weight rounding of module: layer4.0.conv1\n"
     ]
    },
    {
     "name": "stderr",
     "output_type": "stream",
     "text": [
      "                                               \r"
     ]
    },
    {
     "name": "stdout",
     "output_type": "stream",
     "text": [
      "2023-06-06 18:38:07,975 - Quant - INFO - Started Optimizing weight rounding of module: layer4.0.conv2\n"
     ]
    },
    {
     "name": "stderr",
     "output_type": "stream",
     "text": [
      "                                               \r"
     ]
    },
    {
     "name": "stdout",
     "output_type": "stream",
     "text": [
      "2023-06-06 18:38:57,038 - Quant - INFO - Started Optimizing weight rounding of module: layer4.0.downsample.0\n"
     ]
    },
    {
     "name": "stderr",
     "output_type": "stream",
     "text": [
      "                                               \r"
     ]
    },
    {
     "name": "stdout",
     "output_type": "stream",
     "text": [
      "2023-06-06 18:39:12,071 - Quant - INFO - Started Optimizing weight rounding of module: layer4.1.conv1\n"
     ]
    },
    {
     "name": "stderr",
     "output_type": "stream",
     "text": [
      "                                               \r"
     ]
    },
    {
     "name": "stdout",
     "output_type": "stream",
     "text": [
      "2023-06-06 18:39:54,760 - Quant - INFO - Started Optimizing weight rounding of module: layer4.1.conv2\n"
     ]
    },
    {
     "name": "stderr",
     "output_type": "stream",
     "text": [
      "                                               \r"
     ]
    },
    {
     "name": "stdout",
     "output_type": "stream",
     "text": [
      "2023-06-06 18:40:38,254 - Quant - INFO - Started Optimizing weight rounding of module: fc\n"
     ]
    },
    {
     "name": "stderr",
     "output_type": "stream",
     "text": [
      "100%|██████████| 68/68 [13:26<00:00, 11.86s/it]"
     ]
    },
    {
     "name": "stdout",
     "output_type": "stream",
     "text": [
      "2023-06-06 18:40:48,954 - Quant - INFO - Deleting model inputs from location: /tmp/adaround/\n",
      "2023-06-06 18:40:48,972 - Quant - INFO - Completed Adarounding Model\n",
      "2023-06-06 18:40:49,114 - Quant - INFO - No config file provided, defaulting to config file at /home/aurif/miniconda3/envs/py38/lib/python3.8/site-packages/aimet_common/quantsim_config/default_config.json\n",
      "2023-06-06 18:40:49,123 - Quant - INFO - Unsupported op type Squeeze\n",
      "2023-06-06 18:40:49,123 - Quant - INFO - Unsupported op type Pad\n",
      "2023-06-06 18:40:49,123 - Quant - INFO - Unsupported op type Mean\n",
      "2023-06-06 18:40:49,125 - Utils - INFO - ...... subset to store [Conv_0, Relu_2]\n",
      "2023-06-06 18:40:49,125 - Utils - INFO - ...... subset to store [Conv_4, Relu_6]\n",
      "2023-06-06 18:40:49,125 - Utils - INFO - ...... subset to store [Add_9, Relu_10]\n",
      "2023-06-06 18:40:49,125 - Utils - INFO - ...... subset to store [Conv_11, Relu_13]\n",
      "2023-06-06 18:40:49,125 - Utils - INFO - ...... subset to store [Add_16, Relu_17]\n",
      "2023-06-06 18:40:49,125 - Utils - INFO - ...... subset to store [Conv_18, Relu_20]\n",
      "2023-06-06 18:40:49,126 - Utils - INFO - ...... subset to store [Add_25, Relu_26]\n",
      "2023-06-06 18:40:49,126 - Utils - INFO - ...... subset to store [Conv_27, Relu_29]\n",
      "2023-06-06 18:40:49,126 - Utils - INFO - ...... subset to store [Add_32, Relu_33]\n",
      "2023-06-06 18:40:49,126 - Utils - INFO - ...... subset to store [Conv_34, Relu_36]\n",
      "2023-06-06 18:40:49,126 - Utils - INFO - ...... subset to store [Add_41, Relu_42]\n",
      "2023-06-06 18:40:49,126 - Utils - INFO - ...... subset to store [Conv_43, Relu_45]\n",
      "2023-06-06 18:40:49,127 - Utils - INFO - ...... subset to store [Add_48, Relu_49]\n",
      "2023-06-06 18:40:49,127 - Utils - INFO - ...... subset to store [Conv_50, Relu_52]\n",
      "2023-06-06 18:40:49,127 - Utils - INFO - ...... subset to store [Add_57, Relu_58]\n",
      "2023-06-06 18:40:49,127 - Utils - INFO - ...... subset to store [Conv_59, Relu_61]\n",
      "2023-06-06 18:40:49,127 - Utils - INFO - ...... subset to store [Add_64, Relu_65]\n",
      "2023-06-06 18:40:49,127 - Quant - INFO - Selecting DefaultOpInstanceConfigGenerator to compute the specialized config. hw_version:default\n",
      "2023-06-06 18:40:49,128 - Quant - INFO - Setting quantization encodings for parameter: conv1.weight\n",
      "2023-06-06 18:40:49,129 - Quant - INFO - Freezing quantization encodings for parameter: conv1.weight\n",
      "2023-06-06 18:40:49,129 - Quant - INFO - Setting quantization encodings for parameter: layer1.0.conv1.weight\n",
      "2023-06-06 18:40:49,129 - Quant - INFO - Freezing quantization encodings for parameter: layer1.0.conv1.weight\n",
      "2023-06-06 18:40:49,129 - Quant - INFO - Setting quantization encodings for parameter: layer1.0.conv2.weight\n",
      "2023-06-06 18:40:49,129 - Quant - INFO - Freezing quantization encodings for parameter: layer1.0.conv2.weight\n",
      "2023-06-06 18:40:49,129 - Quant - INFO - Setting quantization encodings for parameter: layer1.1.conv1.weight\n",
      "2023-06-06 18:40:49,129 - Quant - INFO - Freezing quantization encodings for parameter: layer1.1.conv1.weight\n",
      "2023-06-06 18:40:49,130 - Quant - INFO - Setting quantization encodings for parameter: layer1.1.conv2.weight\n",
      "2023-06-06 18:40:49,130 - Quant - INFO - Freezing quantization encodings for parameter: layer1.1.conv2.weight\n",
      "2023-06-06 18:40:49,130 - Quant - INFO - Setting quantization encodings for parameter: layer2.0.conv1.weight\n",
      "2023-06-06 18:40:49,130 - Quant - INFO - Freezing quantization encodings for parameter: layer2.0.conv1.weight\n",
      "2023-06-06 18:40:49,130 - Quant - INFO - Setting quantization encodings for parameter: layer2.0.conv2.weight\n",
      "2023-06-06 18:40:49,130 - Quant - INFO - Freezing quantization encodings for parameter: layer2.0.conv2.weight\n",
      "2023-06-06 18:40:49,130 - Quant - INFO - Setting quantization encodings for parameter: layer2.0.downsample.0.weight\n",
      "2023-06-06 18:40:49,131 - Quant - INFO - Freezing quantization encodings for parameter: layer2.0.downsample.0.weight\n",
      "2023-06-06 18:40:49,131 - Quant - INFO - Setting quantization encodings for parameter: layer2.1.conv1.weight\n",
      "2023-06-06 18:40:49,131 - Quant - INFO - Freezing quantization encodings for parameter: layer2.1.conv1.weight\n",
      "2023-06-06 18:40:49,131 - Quant - INFO - Setting quantization encodings for parameter: layer2.1.conv2.weight\n",
      "2023-06-06 18:40:49,131 - Quant - INFO - Freezing quantization encodings for parameter: layer2.1.conv2.weight\n",
      "2023-06-06 18:40:49,131 - Quant - INFO - Setting quantization encodings for parameter: layer3.0.conv1.weight\n",
      "2023-06-06 18:40:49,131 - Quant - INFO - Freezing quantization encodings for parameter: layer3.0.conv1.weight\n",
      "2023-06-06 18:40:49,132 - Quant - INFO - Setting quantization encodings for parameter: layer3.0.conv2.weight\n",
      "2023-06-06 18:40:49,132 - Quant - INFO - Freezing quantization encodings for parameter: layer3.0.conv2.weight\n",
      "2023-06-06 18:40:49,132 - Quant - INFO - Setting quantization encodings for parameter: layer3.0.downsample.0.weight\n",
      "2023-06-06 18:40:49,132 - Quant - INFO - Freezing quantization encodings for parameter: layer3.0.downsample.0.weight\n",
      "2023-06-06 18:40:49,132 - Quant - INFO - Setting quantization encodings for parameter: layer3.1.conv1.weight\n",
      "2023-06-06 18:40:49,132 - Quant - INFO - Freezing quantization encodings for parameter: layer3.1.conv1.weight\n",
      "2023-06-06 18:40:49,133 - Quant - INFO - Setting quantization encodings for parameter: layer3.1.conv2.weight\n",
      "2023-06-06 18:40:49,133 - Quant - INFO - Freezing quantization encodings for parameter: layer3.1.conv2.weight\n",
      "2023-06-06 18:40:49,133 - Quant - INFO - Setting quantization encodings for parameter: layer4.0.conv1.weight\n",
      "2023-06-06 18:40:49,133 - Quant - INFO - Freezing quantization encodings for parameter: layer4.0.conv1.weight\n",
      "2023-06-06 18:40:49,133 - Quant - INFO - Setting quantization encodings for parameter: layer4.0.conv2.weight\n",
      "2023-06-06 18:40:49,134 - Quant - INFO - Freezing quantization encodings for parameter: layer4.0.conv2.weight\n",
      "2023-06-06 18:40:49,134 - Quant - INFO - Setting quantization encodings for parameter: layer4.0.downsample.0.weight\n",
      "2023-06-06 18:40:49,134 - Quant - INFO - Freezing quantization encodings for parameter: layer4.0.downsample.0.weight\n",
      "2023-06-06 18:40:49,134 - Quant - INFO - Setting quantization encodings for parameter: layer4.1.conv1.weight\n",
      "2023-06-06 18:40:49,134 - Quant - INFO - Freezing quantization encodings for parameter: layer4.1.conv1.weight\n",
      "2023-06-06 18:40:49,135 - Quant - INFO - Setting quantization encodings for parameter: layer4.1.conv2.weight\n",
      "2023-06-06 18:40:49,135 - Quant - INFO - Freezing quantization encodings for parameter: layer4.1.conv2.weight\n",
      "2023-06-06 18:40:49,135 - Quant - INFO - Setting quantization encodings for parameter: fc.weight\n",
      "2023-06-06 18:40:49,135 - Quant - INFO - Freezing quantization encodings for parameter: fc.weight\n"
     ]
    },
    {
     "name": "stderr",
     "output_type": "stream",
     "text": [
      "\n"
     ]
    },
    {
     "name": "stdout",
     "output_type": "stream",
     "text": [
      "2023-06-06 18:40:49,267 - Dataloader - INFO - Dataset consists of 3923 images in 1000 classes\n",
      "2023-06-06 18:40:53,798 - Dataloader - INFO - Dataset consists of 3923 images in 1000 classes\n",
      "2023-06-06 18:40:53,799 - Eval - INFO - No value of iteration is provided, running evaluation on complete dataset.\n",
      "2023-06-06 18:40:53,799 - Eval - INFO - Evaluating nn.Module for 123 iterations with batch_size 32\n"
     ]
    },
    {
     "name": "stderr",
     "output_type": "stream",
     "text": [
      "  0% (0 of 123) |                        | Elapsed Time: 0:00:00 ETA:  --:--:--\n",
      "  1% (2 of 123) |                        | Elapsed Time: 0:00:00 ETA:  00:00:00\n",
      "  3% (4 of 123) |                        | Elapsed Time: 0:00:00 ETA:   0:00:07\n",
      "  4% (5 of 123) |                        | Elapsed Time: 0:00:00 ETA:   0:00:07\n",
      "  5% (7 of 123) |#                       | Elapsed Time: 0:00:00 ETA:   0:00:08\n",
      "  6% (8 of 123) |#                       | Elapsed Time: 0:00:00 ETA:   0:00:08\n",
      "  8% (10 of 123) |#                      | Elapsed Time: 0:00:00 ETA:   0:00:08\n",
      "  8% (11 of 123) |##                     | Elapsed Time: 0:00:00 ETA:   0:00:08\n",
      " 10% (13 of 123) |##                     | Elapsed Time: 0:00:00 ETA:   0:00:08\n",
      " 12% (15 of 123) |##                     | Elapsed Time: 0:00:01 ETA:   0:00:08\n",
      " 13% (16 of 123) |##                     | Elapsed Time: 0:00:01 ETA:   0:00:08\n",
      " 14% (18 of 123) |###                    | Elapsed Time: 0:00:01 ETA:   0:00:08\n",
      " 15% (19 of 123) |###                    | Elapsed Time: 0:00:01 ETA:   0:00:08\n",
      " 17% (21 of 123) |###                    | Elapsed Time: 0:00:01 ETA:   0:00:08\n",
      " 17% (22 of 123) |####                   | Elapsed Time: 0:00:01 ETA:   0:00:08\n",
      " 19% (24 of 123) |####                   | Elapsed Time: 0:00:01 ETA:   0:00:07\n",
      " 20% (25 of 123) |####                   | Elapsed Time: 0:00:02 ETA:   0:00:07\n",
      " 21% (27 of 123) |#####                  | Elapsed Time: 0:00:02 ETA:   0:00:07\n",
      " 23% (29 of 123) |#####                  | Elapsed Time: 0:00:02 ETA:   0:00:07\n",
      " 24% (30 of 123) |#####                  | Elapsed Time: 0:00:02 ETA:   0:00:07\n",
      " 26% (32 of 123) |#####                  | Elapsed Time: 0:00:02 ETA:   0:00:07\n",
      " 26% (33 of 123) |######                 | Elapsed Time: 0:00:02 ETA:   0:00:07\n",
      " 27% (34 of 123) |######                 | Elapsed Time: 0:00:02 ETA:   0:00:07\n",
      " 28% (35 of 123) |######                 | Elapsed Time: 0:00:02 ETA:   0:00:07\n",
      " 29% (36 of 123) |######                 | Elapsed Time: 0:00:02 ETA:   0:00:07\n",
      " 30% (38 of 123) |#######                | Elapsed Time: 0:00:03 ETA:   0:00:07\n",
      " 31% (39 of 123) |#######                | Elapsed Time: 0:00:03 ETA:   0:00:07\n",
      " 33% (41 of 123) |#######                | Elapsed Time: 0:00:03 ETA:   0:00:06\n",
      " 34% (42 of 123) |#######                | Elapsed Time: 0:00:03 ETA:   0:00:06\n",
      " 34% (43 of 123) |########               | Elapsed Time: 0:00:03 ETA:   0:00:06\n",
      " 35% (44 of 123) |########               | Elapsed Time: 0:00:03 ETA:   0:00:06\n",
      " 37% (46 of 123) |########               | Elapsed Time: 0:00:03 ETA:   0:00:06\n",
      " 38% (47 of 123) |########               | Elapsed Time: 0:00:03 ETA:   0:00:06\n",
      " 39% (49 of 123) |#########              | Elapsed Time: 0:00:04 ETA:   0:00:06\n",
      " 40% (50 of 123) |#########              | Elapsed Time: 0:00:04 ETA:   0:00:06\n",
      " 41% (51 of 123) |#########              | Elapsed Time: 0:00:04 ETA:   0:00:06\n",
      " 42% (52 of 123) |#########              | Elapsed Time: 0:00:04 ETA:   0:00:06\n",
      " 43% (53 of 123) |#########              | Elapsed Time: 0:00:04 ETA:   0:00:05\n",
      " 44% (55 of 123) |##########             | Elapsed Time: 0:00:04 ETA:   0:00:05\n",
      " 46% (57 of 123) |##########             | Elapsed Time: 0:00:04 ETA:   0:00:05\n",
      " 47% (58 of 123) |##########             | Elapsed Time: 0:00:04 ETA:   0:00:05\n",
      " 47% (59 of 123) |###########            | Elapsed Time: 0:00:04 ETA:   0:00:05\n",
      " 48% (60 of 123) |###########            | Elapsed Time: 0:00:04 ETA:   0:00:05\n",
      " 49% (61 of 123) |###########            | Elapsed Time: 0:00:05 ETA:   0:00:05\n",
      " 51% (63 of 123) |###########            | Elapsed Time: 0:00:05 ETA:   0:00:04\n",
      " 52% (64 of 123) |###########            | Elapsed Time: 0:00:05 ETA:   0:00:04\n",
      " 53% (66 of 123) |############           | Elapsed Time: 0:00:05 ETA:   0:00:04\n",
      " 54% (67 of 123) |############           | Elapsed Time: 0:00:05 ETA:   0:00:04\n",
      " 56% (69 of 123) |############           | Elapsed Time: 0:00:05 ETA:   0:00:04\n",
      " 56% (70 of 123) |#############          | Elapsed Time: 0:00:05 ETA:   0:00:04\n",
      " 57% (71 of 123) |#############          | Elapsed Time: 0:00:05 ETA:   0:00:04\n",
      " 58% (72 of 123) |#############          | Elapsed Time: 0:00:05 ETA:   0:00:04\n",
      " 59% (73 of 123) |#############          | Elapsed Time: 0:00:06 ETA:   0:00:04\n",
      " 60% (74 of 123) |#############          | Elapsed Time: 0:00:06 ETA:   0:00:04\n",
      " 60% (75 of 123) |##############         | Elapsed Time: 0:00:06 ETA:   0:00:04\n",
      " 62% (77 of 123) |##############         | Elapsed Time: 0:00:06 ETA:   0:00:03\n",
      " 63% (78 of 123) |##############         | Elapsed Time: 0:00:06 ETA:   0:00:03\n",
      " 65% (80 of 123) |##############         | Elapsed Time: 0:00:06 ETA:   0:00:03\n",
      " 65% (81 of 123) |###############        | Elapsed Time: 0:00:06 ETA:   0:00:03\n",
      " 67% (83 of 123) |###############        | Elapsed Time: 0:00:06 ETA:   0:00:03\n",
      " 69% (85 of 123) |###############        | Elapsed Time: 0:00:06 ETA:   0:00:03\n",
      " 69% (86 of 123) |################       | Elapsed Time: 0:00:07 ETA:   0:00:02\n",
      " 71% (88 of 123) |################       | Elapsed Time: 0:00:07 ETA:   0:00:02\n",
      " 72% (89 of 123) |################       | Elapsed Time: 0:00:07 ETA:   0:00:02\n",
      " 73% (91 of 123) |#################      | Elapsed Time: 0:00:07 ETA:   0:00:02\n",
      " 74% (92 of 123) |#################      | Elapsed Time: 0:00:07 ETA:   0:00:02\n",
      " 76% (94 of 123) |#################      | Elapsed Time: 0:00:07 ETA:   0:00:02\n",
      " 77% (95 of 123) |#################      | Elapsed Time: 0:00:07 ETA:   0:00:02\n",
      " 78% (97 of 123) |##################     | Elapsed Time: 0:00:07 ETA:   0:00:02\n",
      " 80% (99 of 123) |##################     | Elapsed Time: 0:00:08 ETA:   0:00:01\n",
      " 81% (100 of 123) |#################     | Elapsed Time: 0:00:08 ETA:   0:00:01\n",
      " 82% (102 of 123) |##################    | Elapsed Time: 0:00:08 ETA:   0:00:01\n",
      " 83% (103 of 123) |##################    | Elapsed Time: 0:00:08 ETA:   0:00:01\n",
      " 85% (105 of 123) |##################    | Elapsed Time: 0:00:08 ETA:   0:00:01\n",
      " 86% (106 of 123) |##################    | Elapsed Time: 0:00:08 ETA:   0:00:01\n",
      " 87% (108 of 123) |###################   | Elapsed Time: 0:00:08 ETA:   0:00:01\n",
      " 88% (109 of 123) |###################   | Elapsed Time: 0:00:08 ETA:   0:00:01\n",
      " 90% (111 of 123) |###################   | Elapsed Time: 0:00:09 ETA:   0:00:00\n",
      " 91% (112 of 123) |####################  | Elapsed Time: 0:00:09 ETA:   0:00:00\n",
      " 91% (113 of 123) |####################  | Elapsed Time: 0:00:09 ETA:   0:00:00\n",
      " 92% (114 of 123) |####################  | Elapsed Time: 0:00:09 ETA:   0:00:00\n",
      " 94% (116 of 123) |####################  | Elapsed Time: 0:00:09 ETA:   0:00:00\n",
      " 95% (117 of 123) |####################  | Elapsed Time: 0:00:09 ETA:   0:00:00\n",
      " 96% (119 of 123) |##################### | Elapsed Time: 0:00:09 ETA:   0:00:00\n",
      " 97% (120 of 123) |##################### | Elapsed Time: 0:00:09 ETA:   0:00:00\n",
      " 99% (122 of 123) |##################### | Elapsed Time: 0:00:10 ETA:   0:00:00\n",
      "100% (123 of 123) |######################| Elapsed Time: 0:00:10 Time:  0:00:10\n"
     ]
    },
    {
     "name": "stdout",
     "output_type": "stream",
     "text": [
      "2023-06-06 18:41:04,054 - Eval - INFO - Avg accuracy Top 1: 67.672229 Avg accuracy Top 5: 87.592266 on validation Dataset\n",
      "###########################################################################################################\n",
      "Quantized (AdaRound) model accuracy: 67.67222936366632\n",
      "###########################################################################################################\n",
      "2023-06-06 18:41:04,497 - Utils - INFO - successfully created onnx model with 48/49 node names updated\n",
      "2023-06-06 18:41:04,625 - Quant - INFO - Layers excluded from quantization: []\n"
     ]
    }
   ],
   "source": [
    "ROOT_DATA_AND_OUTPUTS = './'\n",
    "N = 16 # number of classes and samples per class\n",
    "BIWIDTH = 4\n",
    "BIWIDTH_ACTIVATION = 8 #quantization on the input and output of the layer\n",
    "DATASET_FOLDER_PATH = '../input/imagenetmini-1000/imagenet-mini/'\n",
    "\n",
    "# batch size of evaluation is 32\n",
    "# in the paper they used 2048 images -> 64 batches !!!!!!!!!\n",
    "#ADAROUND_NUM_BATCHES = 64\n",
    "ADAROUND_ITERATIONS = 20000\n",
    "ADAROUND_NUM_BATCHES = 16\n",
    "#ADAROUND_ITERATIONS = 10000\n",
    "\n",
    "# in paper their claim to have accuracy ~68.6%\n",
    "\n",
    "import datetime\n",
    "DATASET_DIR = f'{ROOT_DATA_AND_OUTPUTS}{DATASET_FOLDER_PATH}'\n",
    "output_dir = f'{ROOT_DATA_AND_OUTPUTS}output_{datetime.datetime.now().strftime(\"%Y%m%d_%H%M\")}/'\n",
    "import os\n",
    "os.makedirs(output_dir, exist_ok=True)\n",
    "\n",
    "import os\n",
    "import torch\n",
    "import Examples.common.image_net_config as image_net_config\n",
    "from Examples.torch.utils.image_net_evaluator import ImageNetEvaluator\n",
    "from Examples.torch.utils.image_net_data_loader import ImageNetDataLoader\n",
    "\n",
    "class ImageNetDataPipeline:\n",
    "\n",
    "    @staticmethod\n",
    "    def get_val_dataloader() -> torch.utils.data.DataLoader:\n",
    "        \"\"\"\n",
    "        Instantiates a validation dataloader for ImageNet dataset and returns it\n",
    "        \"\"\"\n",
    "        data_loader = ImageNetDataLoader(DATASET_DIR,\n",
    "                                         image_size=image_net_config.dataset['image_size'],\n",
    "                                         batch_size=image_net_config.evaluation['batch_size'],\n",
    "                                         is_training=False,\n",
    "                                         num_workers=image_net_config.evaluation['num_workers'],\n",
    "                                         num_samples_per_class=N).data_loader\n",
    "        return data_loader\n",
    "\n",
    "    @staticmethod\n",
    "    def evaluate(model: torch.nn.Module, use_cuda: bool) -> float:\n",
    "        \"\"\"\n",
    "        Given a torch model, evaluates its Top-1 accuracy on the dataset\n",
    "        :param model: the model to evaluate\n",
    "        :param use_cuda: whether or not the GPU should be used.\n",
    "        \"\"\"\n",
    "        evaluator = ImageNetEvaluator(DATASET_DIR, image_size=image_net_config.dataset['image_size'],\n",
    "                                      batch_size=image_net_config.evaluation['batch_size'],\n",
    "                                      num_workers=image_net_config.evaluation['num_workers'],\n",
    "                                      num_val_samples_per_class=N)\n",
    "\n",
    "        return evaluator.evaluate(model, iterations=None, use_cuda=use_cuda)\n",
    "    \n",
    "from torchvision.models import resnet18\n",
    "model = resnet18(pretrained=True)\n",
    "\n",
    "# model preperation\n",
    "from aimet_torch.model_preparer import prepare_model\n",
    "model = prepare_model(model)\n",
    "\n",
    "# move to device\n",
    "use_cuda = False\n",
    "if torch.cuda.is_available():\n",
    "    use_cuda = True\n",
    "    model.to(torch.device('cuda'))\n",
    "print('Using cuda: {}'.format(use_cuda))\n",
    "\n",
    "# accuracy of the original model\n",
    "accuracy = ImageNetDataPipeline.evaluate(model, use_cuda)\n",
    "\n",
    "from termcolor import colored\n",
    "print(colored(\"###########################################################################################################\", 'green'))\n",
    "print(colored(f\"Original model accuracy: {accuracy}\", 'red'))\n",
    "print(colored(\"###########################################################################################################\", 'green'))\n",
    "\n",
    "from aimet_torch.batch_norm_fold import fold_all_batch_norms\n",
    "\n",
    "_ = fold_all_batch_norms(model, input_shapes=(1, 3, 224, 224))\n",
    "\n",
    "from aimet_common.defs import QuantScheme\n",
    "from aimet_torch.quantsim import QuantizationSimModel\n",
    "\n",
    "dummy_input = torch.rand(1, 3, 224, 224)    # Shape for each ImageNet sample is (3 channels) x (224 height) x (224 width)\n",
    "if use_cuda:\n",
    "    dummy_input = dummy_input.cuda()\n",
    "\n",
    "def pass_calibration_data(sim_model, use_cuda):\n",
    "    data_loader = ImageNetDataPipeline.get_val_dataloader()\n",
    "    batch_size = data_loader.batch_size\n",
    "\n",
    "    if use_cuda:\n",
    "        device = torch.device('cuda')\n",
    "    else:\n",
    "        device = torch.device('cpu')\n",
    "\n",
    "    sim_model.eval()\n",
    "    samples = 1000\n",
    "\n",
    "    batch_cntr = 0\n",
    "    with torch.no_grad():\n",
    "        for input_data, target_data in data_loader:\n",
    "\n",
    "            inputs_batch = input_data.to(device)\n",
    "            sim_model(inputs_batch)\n",
    "\n",
    "            batch_cntr += 1\n",
    "            if (batch_cntr * batch_size) > samples:\n",
    "                break\n",
    "\n",
    "sim = QuantizationSimModel(model=model,\n",
    "                           quant_scheme=QuantScheme.post_training_tf_enhanced,\n",
    "                           #quant_scheme=QuantScheme.post_training_tf,\n",
    "                           dummy_input=dummy_input,\n",
    "                           default_output_bw=BIWIDTH_ACTIVATION,\n",
    "                           default_param_bw=BIWIDTH,\n",
    "                           rounding_mode = 'nearest')\n",
    "                \n",
    "sim.compute_encodings(forward_pass_callback=pass_calibration_data,\n",
    "                      forward_pass_callback_args=use_cuda)\n",
    "\n",
    "accuracy = ImageNetDataPipeline.evaluate(sim.model, use_cuda)\n",
    "print(colored(\"###########################################################################################################\", 'green'))\n",
    "print(colored(f\"Quantized (nearest) model accuracy: {accuracy}\", 'red'))\n",
    "print(colored(\"###########################################################################################################\", 'green'))\n",
    "\n",
    "sim = QuantizationSimModel(model=model,\n",
    "                           quant_scheme=QuantScheme.post_training_tf_enhanced,\n",
    "                           #quant_scheme=QuantScheme.post_training_tf,\n",
    "                           dummy_input=dummy_input,\n",
    "                           default_output_bw=BIWIDTH_ACTIVATION,\n",
    "                           default_param_bw=BIWIDTH,\n",
    "                           rounding_mode = 'stochastic')\n",
    "                \n",
    "sim.compute_encodings(forward_pass_callback=pass_calibration_data,\n",
    "                      forward_pass_callback_args=use_cuda)\n",
    "\n",
    "accuracy = ImageNetDataPipeline.evaluate(sim.model, use_cuda)\n",
    "print(colored(\"###########################################################################################################\", 'green'))\n",
    "print(colored(f\"Quantized (stochastic) model accuracy: {accuracy}\", 'red'))\n",
    "print(colored(\"###########################################################################################################\", 'green'))\n",
    "\n",
    "#AdaRound\n",
    "from aimet_torch.adaround.adaround_weight import Adaround, AdaroundParameters\n",
    "from aimet_torch.adaround.adaround_weight import AdaroundParameters\n",
    "#from adaround_weight_new import Adaround\n",
    "\n",
    "data_loader = ImageNetDataPipeline.get_val_dataloader()\n",
    "params = AdaroundParameters(data_loader=data_loader, num_batches=ADAROUND_NUM_BATCHES, default_num_iterations=ADAROUND_ITERATIONS)\n",
    "\n",
    "dummy_input = torch.rand(1, 3, 224, 224)\n",
    "if use_cuda:\n",
    "    dummy_input = dummy_input.cuda()\n",
    "\n",
    "os.makedirs(f'{output_dir}', exist_ok=True)\n",
    "\n",
    "ada_model = Adaround.apply_adaround(model, dummy_input, params,\n",
    "                                    path=f'{output_dir}', \n",
    "                                    filename_prefix='adaround', \n",
    "                                    default_param_bw=BIWIDTH,\n",
    "                                    default_quant_scheme=QuantScheme.post_training_tf_enhanced\n",
    "                                    #default_quant_scheme=QuantScheme.post_training_tf\n",
    "                                   )\n",
    "\n",
    "# model ready to use\n",
    "sim = QuantizationSimModel(model=ada_model,\n",
    "                           dummy_input=dummy_input,\n",
    "                           quant_scheme=QuantScheme.post_training_tf_enhanced,\n",
    "                           #quant_scheme=QuantScheme.post_training_tf,\n",
    "                           default_output_bw=BIWIDTH_ACTIVATION, \n",
    "                           default_param_bw=BIWIDTH)\n",
    "\n",
    "sim.set_and_freeze_param_encodings(encoding_path=f'{output_dir}adaround.encodings')\n",
    "\n",
    "sim.compute_encodings(forward_pass_callback=pass_calibration_data,\n",
    "                      forward_pass_callback_args=use_cuda)\n",
    "\n",
    "accuracy = ImageNetDataPipeline.evaluate(sim.model, use_cuda)\n",
    "print(colored(\"###########################################################################################################\", 'green'))\n",
    "print(colored(f\"Quantized (AdaRound) model accuracy: {accuracy}\", 'red'))\n",
    "print(colored(\"###########################################################################################################\", 'green'))\n",
    "\n",
    "dummy_input = dummy_input.cpu()\n",
    "sim.export(path=output_dir, filename_prefix='resnet18_after_adaround', dummy_input=dummy_input)"
   ]
  }
 ],
 "metadata": {
  "kernelspec": {
   "display_name": "Python 3",
   "language": "python",
   "name": "python3"
  },
  "language_info": {
   "codemirror_mode": {
    "name": "ipython",
    "version": 3
   },
   "file_extension": ".py",
   "mimetype": "text/x-python",
   "name": "python",
   "nbconvert_exporter": "python",
   "pygments_lexer": "ipython3",
   "version": "3.8.16"
  },
  "papermill": {
   "default_parameters": {},
   "duration": 1836.391866,
   "end_time": "2023-05-14T23:59:46.683749",
   "environment_variables": {},
   "exception": null,
   "input_path": "__notebook__.ipynb",
   "output_path": "__notebook__.ipynb",
   "parameters": {},
   "start_time": "2023-05-14T23:29:10.291883",
   "version": "2.4.0"
  }
 },
 "nbformat": 4,
 "nbformat_minor": 5
}
